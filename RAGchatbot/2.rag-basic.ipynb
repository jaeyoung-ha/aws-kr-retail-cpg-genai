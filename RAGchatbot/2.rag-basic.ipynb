{
 "cells": [
  {
   "cell_type": "markdown",
   "id": "ff58632e-a957-47d6-ab59-623e3e867b56",
   "metadata": {},
   "source": [
    "# 검색증강생성(RAG)을 활용한 챗봇 구현"
   ]
  },
  {
   "cell_type": "markdown",
   "id": "6d1bcd67-4dd5-4a7a-8171-78f461a63308",
   "metadata": {},
   "source": [
    "#### 앞 부분은 이전 실습 과정에서 했던 내용과 동일합니다"
   ]
  },
  {
   "cell_type": "code",
   "execution_count": null,
   "id": "bb4422be-0e6d-4e6e-8688-d16a6a64ad5d",
   "metadata": {},
   "outputs": [],
   "source": [
    "import boto3\n",
    "from utils.ssm import parameter_store\n",
    "\n",
    "region=boto3.Session().region_name\n",
    "pm = parameter_store(region)\n",
    "\n",
    "domain_endpoint = pm.get_params(key=\"opensearch_domain_endpoint\", enc=False)\n",
    "opensearch_domain_endpoint = f\"https://{domain_endpoint}\"\n",
    "opensearch_user_id = pm.get_params(key=\"opensearch_user_id\", enc=False)\n",
    "opensearch_user_password = pm.get_params(key=\"opensearch_user_password\", enc=True)"
   ]
  },
  {
   "cell_type": "code",
   "execution_count": null,
   "id": "f9ab733e-350e-4352-9a57-29afd37b3073",
   "metadata": {},
   "outputs": [],
   "source": [
    "%load_ext autoreload\n",
    "%autoreload 2"
   ]
  },
  {
   "cell_type": "code",
   "execution_count": null,
   "id": "388f58a4-65a8-4b0e-b0dd-76d62f36b61b",
   "metadata": {},
   "outputs": [],
   "source": [
    "from botocore.config import Config\n",
    "from langchain_community.chat_models import BedrockChat\n",
    "from langchain.callbacks.streaming_stdout import StreamingStdOutCallbackHandler\n",
    "\n",
    "region_name = 'us-west-2'\n",
    "retry_config = Config(\n",
    "        region_name=region_name,\n",
    "        retries={\n",
    "            \"max_attempts\": 10,\n",
    "            \"mode\": \"standard\",\n",
    "        },\n",
    "    )\n",
    "boto3_bedrock = boto3.client(\"bedrock-runtime\", region_name=region_name, config=retry_config)\n",
    "\n",
    "llmchat = BedrockChat(\n",
    "    model_id=\"anthropic.claude-3-sonnet-20240229-v1:0\",\n",
    "    client=boto3_bedrock,\n",
    "    streaming=True,\n",
    "    callbacks=[StreamingStdOutCallbackHandler()],\n",
    "    model_kwargs={\n",
    "        \"max_tokens\": 1024,\n",
    "        \"stop_sequences\": [\"\\n\\nHuman\"]\n",
    "    }\n",
    ")\n",
    "\n",
    "from langchain.embeddings import BedrockEmbeddings\n",
    "\n",
    "llmemb = BedrockEmbeddings(\n",
    "    client=boto3_bedrock,\n",
    "    model_id=\"amazon.titan-embed-g1-text-02\"\n",
    ")\n",
    "dimension = 1536"
   ]
  },
  {
   "cell_type": "code",
   "execution_count": null,
   "id": "a44f64de-df85-4888-b397-ca0c88d3a1db",
   "metadata": {},
   "outputs": [],
   "source": [
    "from utils.rag import qa_chain\n",
    "from utils.rag import prompt_repo, show_context_used\n",
    "from utils.rag import retriever_utils, OpenSearchHybridSearchRetriever\n",
    "from opensearchpy import OpenSearch, RequestsHttpConnection\n",
    "\n",
    "http_auth = (opensearch_user_id, opensearch_user_password)\n",
    "os_client = OpenSearch(\n",
    "        hosts=[\n",
    "            {'host': opensearch_domain_endpoint.replace(\"https://\", \"\"),\n",
    "             'port': 443\n",
    "            }\n",
    "        ],\n",
    "        http_auth=http_auth, \n",
    "        use_ssl=True,\n",
    "        verify_certs=True,\n",
    "        connection_class=RequestsHttpConnection\n",
    "    )"
   ]
  },
  {
   "cell_type": "code",
   "execution_count": null,
   "id": "5393b197-78b7-431d-b23d-ffefec8931a8",
   "metadata": {},
   "outputs": [],
   "source": [
    "index_name = \"sample_index\"\n",
    "opensearch_retriever = OpenSearchHybridSearchRetriever(\n",
    "    os_client=os_client,\n",
    "    index_name=index_name,\n",
    "    llm_text=llmchat, \n",
    "    llm_emb=llmemb,\n",
    "\n",
    "    # option for lexical\n",
    "    minimum_should_match=0,\n",
    "    filter=[],\n",
    "\n",
    "    # option for search\n",
    "    fusion_algorithm=\"RRF\", # [\"RRF\", \"simple_weighted\"], rank fusion 방식 정의\n",
    "    ensemble_weights=[1.0, 0.0], # [for semantic, for lexical], Semantic, Lexical search 결과에 대한 최종 반영 비율 정의\n",
    "    reranker=False, \n",
    "    parent_document = False, # enable parent document\n",
    "    \n",
    "    # option for async search\n",
    "    async_mode=True,\n",
    "\n",
    "    # option for output\n",
    "    k=5, # 최종 Document 수 정의\n",
    "    verbose=False,\n",
    ")"
   ]
  },
  {
   "cell_type": "code",
   "execution_count": null,
   "id": "97e33ebb-282a-4759-bbb5-ddde2c29ad20",
   "metadata": {},
   "outputs": [],
   "source": [
    "system_prompt = prompt_repo.get_system_prompt()\n",
    "# 기본 프롬프트 템플릿을 불러와서 활용\n",
    "print(system_prompt)"
   ]
  },
  {
   "cell_type": "code",
   "execution_count": null,
   "id": "dba10a06-53e1-4c6f-a51b-caa042016d93",
   "metadata": {},
   "outputs": [],
   "source": [
    "qa = qa_chain(\n",
    "    llm_text=llmchat,\n",
    "    retriever=opensearch_retriever,\n",
    "    system_prompt=system_prompt,\n",
    "    return_context=True,\n",
    "    verbose=False\n",
    ")"
   ]
  },
  {
   "cell_type": "code",
   "execution_count": null,
   "id": "25200796-cee5-44a7-8ad0-5543d4e86d80",
   "metadata": {},
   "outputs": [],
   "source": [
    "query = \"한약재 투약비용도 보험금을 지급받을 수 있을까요?\"\n",
    "\n",
    "response, contexts = qa.invoke(\n",
    "    query = query\n",
    ")\n",
    "\n",
    "print(\"\\n\\n\\n==============아래는 위 답변에 사용된 컨텍스트입니다==============\\n\")\n",
    "show_context_used(contexts)"
   ]
  },
  {
   "cell_type": "markdown",
   "id": "d08a5855-d1c9-422f-ad2d-17dbce5c33ec",
   "metadata": {},
   "source": [
    "### RAG 기능을 Streamlit 애플리케이션에 구현\n",
    "\n",
    "앞서 저장했던 OpenSearch의 벡터 인덱스(`sample_pdf`)에서 질문에 맞는 컨텍스트를 찾아옵니다.\n",
    "\n",
    "OpenSearch에서 컨텍스트를 찾기 위한 방법으로 **1) 벡터(Semantic) 검색**, **2) 텍스트(Lexical) 검색**을 사용할 수 있습니다.\n",
    "\n",
    "RAG에서 자연어 검색을 위해 기본적으로 벡터 검색을 사용하지만, 특정 검색어에서는 텍스트 검색에서 더 적합한 컨텍스트를 찾아냅니다.\n",
    "\n",
    "이를 위해, **벡터 검색과 텍스트 검색을 앙상블**해서 사용하는 **하이브리드 검색**을 최적화 기법으로 사용하기도 합니다. \n",
    "\n",
    "아래는 `Hybrid-RAG`를 검색 옵션으로 선택했을 때 **벡터 검색 - 0.51, 텍스트 검색 - 0.49**의 가중치로 컨텍스트를 얻는 기능을 포함합니다."
   ]
  },
  {
   "cell_type": "code",
   "execution_count": null,
   "id": "0d99ec1e-8803-46f1-bc19-c14b5732efaa",
   "metadata": {},
   "outputs": [],
   "source": [
    "!cp ./chat-rag-opensearch-hybrid.py ../demo-app.py"
   ]
  },
  {
   "cell_type": "markdown",
   "id": "b7d91fd7-deaa-4f58-882b-7a92acbf07a0",
   "metadata": {},
   "source": [
    "# 예상 질문 목록\n",
    "\n",
    "## sample1_ko.pdf : 해외여행보험 보통약관\n",
    "#### 특별비용담보 특별약관에서 회사가 보상하는 비용의 범위는?\n",
    "#### 한약재 투약비용도 보험금을 지급받을 수 있어?\n",
    "#### 외교관의 보험가입금액에 대해 알고싶은데, 피보험자가 자녀인 경우, 사망.후유장해에 대한 자녀 1인당 보험가입금액이 얼마야?\n",
    "#### 계약자가 사망보험을 가입한 후에, 보험금수익자를 변경하려면 어떤 절차를 따라야해?\n",
    "#### 인질구조비용 특별약관에 가입하면, 인질상태에 놓였을 때 어떤 비용을 보상받을 수 있어?\n",
    "\n",
    "## sample2_ko.pdf : 생성AI 산업 생태계 현황과 과제\n",
    "#### Meta의 생성형 AI 전략에 대해 알려주세요\n",
    "#### LG 전자는 어떤 생성형 AI 모델을 사용 중인지 알려주세요\n",
    "#### 10년 후에 생성 AI 시장은 지금보다 얼마나 커질까요?\n",
    "#### 클라우드에서 엔비디아 GPU의 점유율은 얼마나 될까?\n",
    "#### 아마존의 생성형 AI 전략이 뭐야?\n",
    "#### 삼성전자의 생성형 AI 전략이 뭐야?\n",
    "\n",
    "## Model_Card_Llama_3.pdf : Meta LLAMA 3 모델 카드\n",
    "#### Llama3는 언제, 어떤 라이센스로 배포가 되었나요?\n",
    "#### Llama3는 언제까지의 최신정보를 갖고있나요? 그리고 어떤 종류의 데이터를 얼마나 많이 학습했나요?\n",
    "\n",
    "## Model_Card_EEVE_LLM.pdf : EEVE LLM 모델 카드\n",
    "#### EEVE 모델은 어떤 모델을 기반으로 파인튜닝 됐어?\n",
    "#### EEVE 모델의 가장 특징적인 장점이 뭐야?"
   ]
  }
 ],
 "metadata": {
  "kernelspec": {
   "display_name": "Python 3 (ipykernel)",
   "language": "python",
   "name": "python3"
  },
  "language_info": {
   "codemirror_mode": {
    "name": "ipython",
    "version": 3
   },
   "file_extension": ".py",
   "mimetype": "text/x-python",
   "name": "python",
   "nbconvert_exporter": "python",
   "pygments_lexer": "ipython3",
   "version": "3.10.13"
  }
 },
 "nbformat": 4,
 "nbformat_minor": 5
}
