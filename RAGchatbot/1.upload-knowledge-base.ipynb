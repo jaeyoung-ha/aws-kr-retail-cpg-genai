{
 "cells": [
  {
   "cell_type": "markdown",
   "id": "f0a7cdab-0758-46da-9a03-f901d3ce1c6e",
   "metadata": {},
   "source": [
    "# [사전작업] 챗봇 기본구조 확인 (Streamlit)"
   ]
  },
  {
   "cell_type": "code",
   "execution_count": null,
   "id": "c0ebf891-b474-4064-b105-25ecbd3765f4",
   "metadata": {},
   "outputs": [],
   "source": [
    "# 사전 정의된 기본 챗봇 애플리케이션 \n",
    "!cp ./demo-app.py ./basic.py .."
   ]
  },
  {
   "cell_type": "markdown",
   "id": "134de850-0ee1-4dcb-99ca-48be5ca73e1c",
   "metadata": {},
   "source": [
    "# [Lab1] 지식 문서 업로드 기능 구현 "
   ]
  },
  {
   "cell_type": "code",
   "execution_count": null,
   "id": "b1a30135-af12-4a72-b35a-9885e365a2f9",
   "metadata": {},
   "outputs": [],
   "source": [
    "!pip install -r requirements.txt -q"
   ]
  },
  {
   "cell_type": "code",
   "execution_count": null,
   "id": "11189f62-b7d1-443b-82b5-6c38f402ebbb",
   "metadata": {},
   "outputs": [],
   "source": [
    "%load_ext autoreload\n",
    "%autoreload 2"
   ]
  },
  {
   "cell_type": "code",
   "execution_count": null,
   "id": "e9df81a5-8a6e-42ae-a071-10ec85926669",
   "metadata": {},
   "outputs": [],
   "source": [
    "import re\n",
    "import json\n",
    "import pdfplumber\n",
    "from datetime import datetime\n",
    "from langchain_core.documents import Document"
   ]
  },
  {
   "cell_type": "code",
   "execution_count": null,
   "id": "78ffbc72-294c-4468-ad11-da0c9097efb2",
   "metadata": {},
   "outputs": [],
   "source": [
    "import boto3\n",
    "from utils.ssm import parameter_store\n",
    "\n",
    "region=boto3.Session().region_name\n",
    "pm = parameter_store(region)\n",
    "\n",
    "opensearch_domain_endpoint = pm.get_params(key=\"opensearch_domain_endpoint\", enc=False)\n",
    "opensearch_user_id = pm.get_params(key=\"opensearch_user_id\", enc=False)\n",
    "opensearch_user_password = pm.get_params(key=\"opensearch_user_password\", enc=True)"
   ]
  },
  {
   "cell_type": "code",
   "execution_count": null,
   "id": "a3921b1e-e400-47b5-bc77-646b5c159154",
   "metadata": {},
   "outputs": [],
   "source": [
    "opensearch_domain_endpoint"
   ]
  },
  {
   "cell_type": "markdown",
   "id": "a8c40b91-a6bf-47b9-85c3-b3f2f2c2246b",
   "metadata": {},
   "source": [
    "### PDF 문서 처리방식 확인\n",
    "\n",
    "문서를 어떻게 chunking 할 것인지는 RAG 성능에 많은 영향을 미칩니다.\n",
    "\n",
    "아래 예시에서는 단순히 PDF의 Page 단위에 맞춰서 문서를 chunking 하도록 했습니다."
   ]
  },
  {
   "cell_type": "code",
   "execution_count": null,
   "id": "73fc485f-5769-4469-bf18-969c298c7adc",
   "metadata": {},
   "outputs": [],
   "source": [
    "pdf_list = ['./data/sample2.pdf']"
   ]
  },
  {
   "cell_type": "code",
   "execution_count": null,
   "id": "e53fd614-02e8-44e8-93e4-41a9990adf0b",
   "metadata": {
    "scrolled": true
   },
   "outputs": [],
   "source": [
    "# PDF에서 cid를 추출해서 ASCII 문자로 변환\n",
    "def text_pruner(text, current_pdf_file):\n",
    "    def replace_cid(match):\n",
    "        ascii_num = int(match.group(1))\n",
    "        try:\n",
    "            return chr(ascii_num)\n",
    "        except:\n",
    "            return ''  # 변환 실패 시 빈 문자열로 처리\n",
    "    cid_pattern = re.compile(r'\\(cid:(\\d+)\\)')\n",
    "    return re.sub(cid_pattern, replace_cid, text)\n",
    "\n",
    "# PDF 파일 처리 함수\n",
    "def process_pdf(pdf_file):\n",
    "    print(f\"Processing PDF file: {pdf_file}\")\n",
    "    docs = []\n",
    "    source_name = pdf_file.split('/')[-1]\n",
    "    type_name = source_name.split(' ')[-1].replace('.pdf', '')\n",
    "\n",
    "    with pdfplumber.open(pdf_file) as pdf:\n",
    "        # 페이지 단위 Chunking (단순화 된 방법)\n",
    "        for page_number, page in enumerate(pdf.pages, start=1):\n",
    "            page_text = page.extract_text()\n",
    "            if page_text:\n",
    "                pruned_text = text_pruner(page_text, pdf_file)\n",
    "            else:\n",
    "                pruned_text = \"\"\n",
    "            # 텍스트 길이가 20 이상인 경우에만 Documnet로 저장\n",
    "            if len(pruned_text) >= 20:  \n",
    "                doc = Document(\n",
    "                    page_content=pruned_text.replace('\\n', ' '),\n",
    "                    metadata={\n",
    "                        \"source\": source_name,\n",
    "                        \"type\": type_name,\n",
    "                        \"timestamp\": datetime.now().isoformat()\n",
    "                    }\n",
    "                )\n",
    "                docs.append(doc)\n",
    "    if docs:\n",
    "        load_document(docs)\n",
    "\n",
    "def load_document(docs):\n",
    "    # 동작방식을 확인하기 위해, 출력만 진행 (업데이트 예정)\n",
    "    print(\"sample doc: \", docs[0])\n",
    "    print(\"number of docs\", len(docs))    \n",
    "\n",
    "for pdf_file in pdf_list:\n",
    "    process_pdf(pdf_file)\n"
   ]
  },
  {
   "cell_type": "markdown",
   "id": "7dc1ffc1-e5d3-42ed-a49d-ddf5256efc52",
   "metadata": {},
   "source": [
    "### OpenSearch를 지식 저장소로 활용\n",
    "\n",
    "이제 지식 저장소로 OpenSearch를 활용하기 위해, 각 Document들을 보관합니다."
   ]
  },
  {
   "cell_type": "markdown",
   "id": "0c73e093-2b97-4819-b333-5a9849b9274b",
   "metadata": {},
   "source": [
    "#### OpenSearch 클라이언트 생성"
   ]
  },
  {
   "cell_type": "code",
   "execution_count": null,
   "id": "46d9f97a-9409-4365-be07-c3f8ad6897df",
   "metadata": {},
   "outputs": [],
   "source": [
    "from opensearchpy import OpenSearch, RequestsHttpConnection"
   ]
  },
  {
   "cell_type": "code",
   "execution_count": null,
   "id": "dfda950d-0673-4387-a2d5-ee22611e8132",
   "metadata": {},
   "outputs": [],
   "source": [
    "http_auth = (opensearch_user_id, opensearch_user_password)\n",
    "os_client = OpenSearch(\n",
    "            hosts=[\n",
    "                {\n",
    "                    'host': opensearch_domain_endpoint.replace(\"https://\", \"\"),\n",
    "                    'port': 443\n",
    "                }\n",
    "            ],\n",
    "            http_auth=http_auth, \n",
    "            use_ssl=True,\n",
    "            verify_certs=True,\n",
    "            timeout=300,\n",
    "            connection_class=RequestsHttpConnection\n",
    "        )"
   ]
  },
  {
   "cell_type": "markdown",
   "id": "4e913616-da6a-47ff-a341-6b1179d89fc6",
   "metadata": {},
   "source": [
    "#### OpenSearch에 `sample_pdf` 인덱스 생성"
   ]
  },
  {
   "cell_type": "code",
   "execution_count": null,
   "id": "4c9ed285-2393-4cc8-b186-a972cb90944a",
   "metadata": {},
   "outputs": [],
   "source": [
    "with open('index_template.json', 'r') as f:\n",
    "    index_body = json.load(f)\n",
    "\n",
    "index_name = \"sample2_pdf\"\n",
    "exists = os_client.indices.exists(index_name)\n",
    "\n",
    "if exists:\n",
    "    os_client.indices.delete(index=index_name)\n",
    "    print(\"Existing index has been deleted. Create new one.\")\n",
    "else:\n",
    "    print(\"Index does not exist, Create one.\")\n",
    "\n",
    "os_client.indices.create(index_name, body=index_body)"
   ]
  },
  {
   "cell_type": "code",
   "execution_count": null,
   "id": "a7643a6c-ee3a-4ca4-bc41-2ba6da23347c",
   "metadata": {},
   "outputs": [],
   "source": [
    "from botocore.config import Config"
   ]
  },
  {
   "cell_type": "code",
   "execution_count": null,
   "id": "075e2137-2126-44c2-b9cf-1577b0e6f448",
   "metadata": {},
   "outputs": [],
   "source": [
    "retry_config = Config(\n",
    "        region_name=region,\n",
    "        retries={\n",
    "            \"max_attempts\": 10,\n",
    "            \"mode\": \"standard\",\n",
    "        },\n",
    "    )\n",
    "boto3_bedrock = boto3.client(\"bedrock-runtime\", region_name=region, config=retry_config)"
   ]
  },
  {
   "cell_type": "markdown",
   "id": "2e94caf8-04a9-46cc-abbf-579ff03b8cc9",
   "metadata": {},
   "source": [
    "#### 벡터 임베딩 및 OpenSearch 벡터 저장/검색을 위한 클래스 생성\n",
    "\n",
    "검색증강생성(RAG)의 자연어 기반 챗봇이 가능한 핵심 원리 중 하나는 벡터임베딩을 활용한 텍스트의 저장 및 검색입니다.\n",
    "\n",
    "1. 자연어 텍스트를 벡터임베딩으로 변환해주는 Bedrock Embedding 모델을 정의하고,\n",
    "2. OpenSearch에서 제공하는 벡터 저장/검색을 위한 클래스(`OpenSearchVectorSearch`)를 생성합니다."
   ]
  },
  {
   "cell_type": "code",
   "execution_count": null,
   "id": "a097c824-9e69-4ae7-bb41-71050391e890",
   "metadata": {},
   "outputs": [],
   "source": [
    "from langchain.embeddings import BedrockEmbeddings\n",
    "from langchain_community.vectorstores import OpenSearchVectorSearch"
   ]
  },
  {
   "cell_type": "code",
   "execution_count": null,
   "id": "c800517f-8871-4222-a1e2-ff1a6afdaede",
   "metadata": {},
   "outputs": [],
   "source": [
    "llmemb = BedrockEmbeddings(\n",
    "    client=boto3_bedrock,\n",
    "    model_id=\"amazon.titan-embed-g1-text-02\"\n",
    ")\n",
    "dimension = 1536\n",
    "\n",
    "vector_db = OpenSearchVectorSearch(\n",
    "    index_name=index_name,\n",
    "    opensearch_url=opensearch_domain_endpoint,\n",
    "    embedding_function=llmemb,\n",
    "    http_auth=http_auth,\n",
    ")"
   ]
  },
  {
   "cell_type": "markdown",
   "id": "d1945137-137a-44dd-af2a-341b87e97b67",
   "metadata": {},
   "source": [
    "#### 이제 문서 로드 함수 `load_document()`에 add_documents() 호출 구문을 추가하여, 실제 문서가 벡터화(vectorization)되어 OpenSearch에 추가되도록 합니다.\n",
    "\n",
    "앞에서는 동작방식을 확인하기 위해, 문서를 print로만 출력하고 종료했었습니다."
   ]
  },
  {
   "cell_type": "code",
   "execution_count": null,
   "id": "ba76cef0-4a1d-4ab6-b84e-d3c9c7362c3b",
   "metadata": {},
   "outputs": [],
   "source": [
    "def load_document(docs):\n",
    "    short_docs = docs[:1]\n",
    "    vector_db.add_documents(short_docs)\n",
    "\n",
    "for pdf_file in pdf_list:\n",
    "    process_pdf(pdf_file)"
   ]
  },
  {
   "cell_type": "markdown",
   "id": "4974e136-fe0d-4e3d-9a96-688dc65c1760",
   "metadata": {},
   "source": [
    "실행이 끝난 후에 OpenSearch에서 `sample_pdf` 인덱스를 조회해보면, 텍스트와 이 텍스트의 문맥적 의미를 담는 벡터가 함께 저장된 것이 확인됩니다.\n",
    "\n",
    "(아래 내용은 참고만 하셔도 됩니다)\n",
    "\n",
    "<img src=\"image/uploader-1.png\">"
   ]
  },
  {
   "cell_type": "markdown",
   "id": "62778706-4840-40fe-88a2-d4b16ad125c9",
   "metadata": {},
   "source": [
    "### 파일 업로더를 Streamlit 애플리케이션에 통합\n",
    "\n",
    "이제 Streamlit에서 업로드 된 파일이 자동으로 OpenSearch의 벡터 저장소에 보관되도록 처리하겠습니다."
   ]
  },
  {
   "cell_type": "code",
   "execution_count": null,
   "id": "04550033-dad5-4823-bc27-b659a2b77280",
   "metadata": {},
   "outputs": [],
   "source": [
    "%%writefile ../uploader.py\n",
    "import os\n",
    "import boto3\n",
    "import re\n",
    "import json\n",
    "import pdfplumber\n",
    "from RAGchatbot.utils.ssm import parameter_store\n",
    "from datetime import datetime\n",
    "from opensearchpy import OpenSearch, RequestsHttpConnection\n",
    "from botocore.config import Config\n",
    "from langchain_core.documents import Document\n",
    "from langchain_community.embeddings import BedrockEmbeddings\n",
    "from langchain_community.vectorstores import OpenSearchVectorSearch\n",
    "\n",
    "index_name = 'sample_pdf'\n",
    "region_name = 'us-west-2'\n",
    "pm = parameter_store(region_name)\n",
    "opensearch_user_id = pm.get_params(key=\"opensearch_user_id\", enc=False)\n",
    "opensearch_user_password = pm.get_params(key=\"opensearch_user_password\", enc=True)\n",
    "opensearch_domain_endpoint = pm.get_params(key=\"opensearch_domain_endpoint\", enc=False)\n",
    "\n",
    "def setup_opensearch_client():\n",
    "    http_auth = (opensearch_user_id, opensearch_user_password)\n",
    "    os_client = OpenSearch(\n",
    "                hosts=[{'host': opensearch_domain_endpoint.replace(\"https://\", \"\"), 'port': 443}],\n",
    "                http_auth=http_auth, \n",
    "                use_ssl=True,\n",
    "                verify_certs=True,\n",
    "                connection_class=RequestsHttpConnection\n",
    "            )\n",
    "    return os_client\n",
    "    \n",
    "os_client = setup_opensearch_client()\n",
    "\n",
    "retry_config = Config(\n",
    "    region_name=region_name,\n",
    "    retries={\n",
    "        \"max_attempts\": 10,\n",
    "        \"mode\": \"standard\",\n",
    "    },\n",
    ")\n",
    "boto3_bedrock = boto3.client(\"bedrock-runtime\", region_name=region_name, config=retry_config)\n",
    "\n",
    "llmemb = BedrockEmbeddings(\n",
    "    client=boto3_bedrock,\n",
    "    model_id=\"amazon.titan-embed-g1-text-02\"\n",
    ")\n",
    "\n",
    "http_auth = (opensearch_user_id, opensearch_user_password)\n",
    "vector_db = OpenSearchVectorSearch(\n",
    "    index_name=index_name,\n",
    "    opensearch_url=opensearch_domain_endpoint,\n",
    "    embedding_function=llmemb,\n",
    "    http_auth=http_auth,\n",
    ")\n",
    "\n",
    "# PDF에서 cid를 추출해서 ASCII 문자로 변환하는 함수\n",
    "def text_pruner(text, current_pdf_file):\n",
    "    def replace_cid(match):\n",
    "        ascii_num = int(match.group(1))\n",
    "        try:\n",
    "            return chr(ascii_num)\n",
    "        except:\n",
    "            return ''  # 변환 실패 시 빈 문자열로 처리\n",
    "    cid_pattern = re.compile(r'\\(cid:(\\d+)\\)')\n",
    "    return re.sub(cid_pattern, replace_cid, text)\n",
    "\n",
    "# PDF 파일 처리 함수\n",
    "def process_pdf(pdf_file):\n",
    "    docs = []\n",
    "    source_name = pdf_file.name\n",
    "    type_name = source_name.split(' ')[-1].replace('.pdf', '')\n",
    "\n",
    "    with pdfplumber.open(pdf_file) as pdf:\n",
    "        for page_number, page in enumerate(pdf.pages, start=1):\n",
    "            page_text = page.extract_text()\n",
    "            if page_text:\n",
    "                pruned_text = text_pruner(page_text, pdf_file)\n",
    "            else:\n",
    "                pruned_text = \"\"\n",
    "            if len(pruned_text) >= 20:  \n",
    "                doc = Document(\n",
    "                    page_content=pruned_text.replace('\\n', ' '),\n",
    "                    metadata={\n",
    "                        \"source\": source_name,\n",
    "                        \"type\": type_name,\n",
    "                        \"timestamp\": datetime.now().isoformat()\n",
    "                    }\n",
    "                )\n",
    "                docs.append(doc)\n",
    "    if docs:\n",
    "        load_document(docs)\n",
    "\n",
    "def load_document(docs):\n",
    "    vector_db.add_documents(docs)\n",
    "    print(\"Done\")\n",
    "\n",
    "\n",
    "# 인덱스 생성 및 관리\n",
    "def manage_index(os_client):\n",
    "    with open('./RAGchatbot/index_template.json', 'r') as f:\n",
    "        index_body = json.load(f)\n",
    "        \n",
    "    exists = os_client.indices.exists(index_name)\n",
    "    if exists:\n",
    "        os_client.indices.delete(index=index_name)\n",
    "    else:\n",
    "        os_client.indices.create(index_name, body=index_body)\n",
    "\n",
    "def upload_and_process_file(uploaded_file):\n",
    "    try:\n",
    "        manage_index(os_client)\n",
    "        process_pdf(uploaded_file)\n",
    "        return True\n",
    "    except Exception as e:\n",
    "        print(f\"Error processing file: {e}\")\n",
    "        return False"
   ]
  },
  {
   "cell_type": "code",
   "execution_count": null,
   "id": "7f4da660-c904-44b3-b2e8-a9b705e0bd56",
   "metadata": {},
   "outputs": [],
   "source": [
    "%%writefile ../demo-app.py\n",
    "from basic import get_conversation\n",
    "import streamlit as st\n",
    "from uploader import upload_and_process_file  # 추가된 부분\n",
    "\n",
    "st.set_page_config(layout=\"wide\")\n",
    "st.title(\"Bedrock Q&A Chatbot\")\n",
    "\n",
    "model_options = [\n",
    "    \"anthropic.claude-instant-v1\",\n",
    "    \"anthropic.claude-v2:1\",\n",
    "    \"anthropic.claude-3-haiku-20240307-v1:0\",\n",
    "    \"anthropic.claude-3-sonnet-20240229-v1:0\"\n",
    "]\n",
    "st.sidebar.title(\"Model Selection (Claude)\")\n",
    "selected_model = st.sidebar.selectbox(\"모델 선택\", model_options, index=3)\n",
    "\n",
    "uploaded_file = st.file_uploader(\"파일을 업로드하세요\", type=[\"pdf\"])\n",
    "prompt = st.text_input(\"프롬프트를 입력하세요.\")\n",
    "search_type = st.radio(\"Search Type\", [\"Basic\", \"Basic-RAG\", \"Hybrid-RAG\"])\n",
    "\n",
    "chat_box = st.empty()\n",
    "\n",
    "if 'conversation' not in st.session_state or 'stream_handler' not in st.session_state:\n",
    "    st.session_state.conversation, st.session_state.stream_handler = get_conversation(chat_box, selected_model)\n",
    "\n",
    "def search_documents(search_type: str, prompt: str):\n",
    "    if search_type == \"Basic\":\n",
    "        st.session_state.stream_handler.reset_accumulated_text()\n",
    "        st.session_state.conversation.predict(input=prompt)\n",
    "    elif search_type == \"Basic-RAG\":\n",
    "        st.write(f\"문서 기본 검색: {prompt}\")\n",
    "    elif search_type == \"Hybrid-RAG\":\n",
    "        st.write(f\"하이브리드 검색: {prompt}\")\n",
    "\n",
    "if st.button(\"검색\"):\n",
    "    search_documents(search_type, prompt)\n",
    "\n",
    "if uploaded_file is not None:\n",
    "    res = upload_and_process_file(uploaded_file)\n",
    "    if res:\n",
    "        st.success(\"파일이 성공적으로 처리됐습니다.\")\n",
    "    else:\n",
    "        st.error(\"파일 처리 중 오류가 발생했습니다.\")"
   ]
  },
  {
   "cell_type": "markdown",
   "id": "83d82791-01ea-4534-a30c-dde79e1e3528",
   "metadata": {},
   "source": [
    "#### 이제 Streamlit 애플리케이션에서 PDF 파일을 업로드 했을 때 아래와 같이 표시됩니다\n",
    "\n",
    "<img src=\"./image/uploader-2.png\" width=\"800\">"
   ]
  }
 ],
 "metadata": {
  "kernelspec": {
   "display_name": "Python 3 (ipykernel)",
   "language": "python",
   "name": "python3"
  },
  "language_info": {
   "codemirror_mode": {
    "name": "ipython",
    "version": 3
   },
   "file_extension": ".py",
   "mimetype": "text/x-python",
   "name": "python",
   "nbconvert_exporter": "python",
   "pygments_lexer": "ipython3",
   "version": "3.10.13"
  }
 },
 "nbformat": 4,
 "nbformat_minor": 5
}
