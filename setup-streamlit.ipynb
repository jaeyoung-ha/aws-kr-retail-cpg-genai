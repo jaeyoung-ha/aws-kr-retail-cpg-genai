{
 "cells": [
  {
   "cell_type": "markdown",
   "id": "cdaf430b-2bc8-48da-ab22-adeda29ce886",
   "metadata": {},
   "source": [
    "# Streamlit 애플리케이션 기초 코드 작성 "
   ]
  },
  {
   "cell_type": "code",
   "execution_count": null,
   "id": "1913d48b-4b17-4f9a-a6a2-a4961cf18d6e",
   "metadata": {},
   "outputs": [],
   "source": [
    "!pip install streamlit"
   ]
  },
  {
   "cell_type": "markdown",
   "id": "3e267081-221c-4d4c-b40a-aed1870d56ce",
   "metadata": {},
   "source": [
    "### Streamlit으로 base code를 정의합니다"
   ]
  },
  {
   "cell_type": "code",
   "execution_count": null,
   "id": "28e97368-0f9a-473e-b55e-a6d3c7bfd65d",
   "metadata": {},
   "outputs": [],
   "source": [
    "%%writefile demo-app.py\n",
    "import streamlit as st\n",
    "\n",
    "st.title(\"Streamlit Test Success\")\n"
   ]
  },
  {
   "cell_type": "markdown",
   "id": "d8ffd2d4-6717-4d71-b48f-75481438d655",
   "metadata": {},
   "source": [
    "#### 리디렉션을 통한 파일 업로드 시, CORS 에러를 막기 위한 Streamlit 설정입니다"
   ]
  },
  {
   "cell_type": "code",
   "execution_count": null,
   "id": "c918fa30-4590-4145-b423-22db600d6703",
   "metadata": {},
   "outputs": [],
   "source": [
    "%%bash\n",
    "mkdir -p ~/.streamlit\n",
    "cat > ~/.streamlit/config.toml <<EOF\n",
    "[server]\n",
    "enableXsrfProtection = false\n",
    "enableCORS = false\n",
    "EOF"
   ]
  },
  {
   "cell_type": "markdown",
   "id": "bf2e3af5-91ae-4149-be8d-68c7da7b2eaa",
   "metadata": {},
   "source": [
    "#### 터미널에서 `aws-kr-retail-cpg-genai/demo-app.py` 파일 경로로 이동하여 아래 명령어를 실행\n",
    "`streamlit run demo-app.py --server.port 8505`\n",
    "\n",
    "위 명령어는 demo-app.py라는 Python 스크립트에 정의된 Streamlit 애플리케이션을 시작합니다. 해당 애플리케이션은 포트 번호 8505에서 서비스됩니다."
   ]
  },
  {
   "cell_type": "markdown",
   "id": "26eaf69c-40a7-4f8f-8288-2da5963ce51f",
   "metadata": {},
   "source": [
    "#### 현재 브라우저의 URL을 복사해서 아래 url 변수에 입력"
   ]
  },
  {
   "cell_type": "code",
   "execution_count": null,
   "id": "f3dccb72-8801-490b-bcdd-cd555b7037c7",
   "metadata": {},
   "outputs": [],
   "source": [
    "url = \"\"\n",
    "# 형식 : \"https://.../setup-streamlit.ipynb\""
   ]
  },
  {
   "cell_type": "code",
   "execution_count": null,
   "id": "f3d6ee24-4353-4b29-aabd-c83e0f7523de",
   "metadata": {},
   "outputs": [],
   "source": [
    "base_url = url.split(\"default/\")[0]\n",
    "new_url = base_url + \"default/proxy/8505/\"\n",
    "\n",
    "print(new_url)"
   ]
  },
  {
   "cell_type": "markdown",
   "id": "d753a777-838c-40db-be32-506fc47c3d82",
   "metadata": {},
   "source": [
    "### Streamlit Test Success라고 표시되면 성공입니다. 이후 실습에서 구현하는 내용은 이 웹페이지에 반영할 예정입니다"
   ]
  },
  {
   "cell_type": "code",
   "execution_count": null,
   "id": "e19bdcc2-7f85-410d-be73-99982aeca970",
   "metadata": {},
   "outputs": [],
   "source": []
  }
 ],
 "metadata": {
  "kernelspec": {
   "display_name": "Python 3 (ipykernel)",
   "language": "python",
   "name": "python3"
  },
  "language_info": {
   "codemirror_mode": {
    "name": "ipython",
    "version": 3
   },
   "file_extension": ".py",
   "mimetype": "text/x-python",
   "name": "python",
   "nbconvert_exporter": "python",
   "pygments_lexer": "ipython3",
   "version": "3.10.13"
  }
 },
 "nbformat": 4,
 "nbformat_minor": 5
}
