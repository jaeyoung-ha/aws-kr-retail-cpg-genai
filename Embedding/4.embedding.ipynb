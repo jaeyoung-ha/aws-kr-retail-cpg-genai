{
 "cells": [
  {
   "cell_type": "markdown",
   "id": "ef5f5c60",
   "metadata": {},
   "source": [
    "# Bedrock Embeddings을 활용해서 임베딩 계산"
   ]
  },
  {
   "cell_type": "code",
   "execution_count": null,
   "id": "fb192907",
   "metadata": {},
   "outputs": [],
   "source": [
    "from langchain.embeddings import BedrockEmbeddings\n",
    "from numpy import dot\n",
    "from numpy.linalg import norm\n",
    "\n",
    "#Bedrock Embeddings LangChain 클라이언트 생성\n",
    "#https://api.python.langchain.com/en/latest/embeddings/langchain_community.embeddings.bedrock.BedrockEmbeddings.html\n",
    "emb = BedrockEmbeddings()\n",
    "\n",
    "class EmbedItem:\n",
    "    def __init__(self, text):\n",
    "        self.text = text\n",
    "        self.embedding = emb.embed_query(text)\n",
    "\n",
    "class ComparisonResult:\n",
    "    def __init__(self, text, similarity):\n",
    "        self.text = text\n",
    "        self.similarity = similarity\n",
    "\n",
    "def calculate_similarity(a, b): # 코사인 유사도를 확인하세요: https://en.wikipedia.org/wiki/Cosine_similarity\n",
    "    return dot(a, b) / (norm(a) * norm(b))\n"
   ]
  },
  {
   "cell_type": "markdown",
   "id": "44673ba9",
   "metadata": {},
   "source": [
    "#### 텍스트 파일 로드"
   ]
  },
  {
   "cell_type": "code",
   "execution_count": null,
   "id": "0de19a4e",
   "metadata": {},
   "outputs": [],
   "source": [
    "#비교할 임베딩 목록을 작성합니다.\n",
    "items = []\n",
    "\n",
    "with open(\"items.txt\", \"r\") as f:\n",
    "    text_items = f.read().splitlines()\n",
    "\n",
    "for text in text_items:\n",
    "    items.append(EmbedItem(text))\n"
   ]
  },
  {
   "cell_type": "markdown",
   "id": "1b45510e",
   "metadata": {},
   "source": [
    "## 텍스트 사이의 Consine Similarity 계산"
   ]
  },
  {
   "cell_type": "code",
   "execution_count": null,
   "id": "b2fd3d1e",
   "metadata": {
    "scrolled": true
   },
   "outputs": [],
   "source": [
    "for e1 in items:\n",
    "    print(f\"Closest matches for '{e1.text}'\")\n",
    "    print (\"----------------\")\n",
    "    cosine_comparisons = []\n",
    "    \n",
    "    for e2 in items:\n",
    "        similarity_score = calculate_similarity(e1.embedding, e2.embedding) # 두 문장간 코사인 유사도를 구하고\n",
    "        \n",
    "        cosine_comparisons.append(ComparisonResult(e2.text, similarity_score)) # 코사인 유사도 값 을 목록에 저장합니다.\n",
    "        \n",
    "    cosine_comparisons.sort(key=lambda x: x.similarity, reverse=True) # 가장 가까운 일치 항목을 먼저 나열합니다.\n",
    "    \n",
    "    for c in cosine_comparisons:\n",
    "        print(\"%.6f\" % c.similarity, \"\\t\", c.text)\n",
    "    \n",
    "    print()"
   ]
  },
  {
   "cell_type": "markdown",
   "id": "608ff79e-6d4d-4fdb-ada8-3cc3feed0431",
   "metadata": {},
   "source": [
    "## 이미지와 텍스트의 벡터 거리 계산"
   ]
  },
  {
   "cell_type": "code",
   "execution_count": null,
   "id": "a56b2499",
   "metadata": {},
   "outputs": [],
   "source": [
    "import json\n",
    "import base64\n",
    "import boto3"
   ]
  },
  {
   "cell_type": "code",
   "execution_count": null,
   "id": "1be56268-8a84-493b-b013-a54f6abdae2d",
   "metadata": {},
   "outputs": [],
   "source": [
    "bedrock_runtime = boto3.client(\"bedrock-runtime\")\n",
    "                          \n",
    "def get_vector(input_content, input_type):\n",
    "    if input_type == \"image\":\n",
    "        with open(input_content, \"rb\") as image_file:\n",
    "            input_image = base64.b64encode(image_file.read()).decode('utf8')\n",
    "    \n",
    "        body = json.dumps(\n",
    "            {\n",
    "                \"inputImage\": input_image\n",
    "            }\n",
    "        )\n",
    "        \n",
    "    elif input_type == \"text\":\n",
    "        body = json.dumps(\n",
    "            {\n",
    "                \"inputText\": input_content\n",
    "            }\n",
    "        )\n",
    "    \n",
    "    response = bedrock_runtime.invoke_model(\n",
    "    \tbody=body, \n",
    "    \tmodelId=\"amazon.titan-embed-image-v1\", \n",
    "    \taccept=\"application/json\", \n",
    "    \tcontentType=\"application/json\"\n",
    "    )\n",
    "    response_body = json.loads(response.get(\"body\").read())\n",
    "    return response_body.get(\"embedding\")"
   ]
  },
  {
   "cell_type": "markdown",
   "id": "995fe171-35a5-4a75-90a3-a0572c184d8f",
   "metadata": {},
   "source": [
    "#### 테스트에 사용할 이미지를 눌러서 확인해보세요\n",
    "\n",
    "#### [Image1](./images/blue_t.jpg) [Image2](./images/red_t.jpg)"
   ]
  },
  {
   "cell_type": "code",
   "execution_count": null,
   "id": "547ac79b-24a3-4009-be24-ef98f03b8727",
   "metadata": {},
   "outputs": [],
   "source": [
    "img1_vec = get_vector(\"./images/blue_t.jpg\", \"image\")\n",
    "img2_vec = get_vector(\"./images/red_t.jpg\", \"image\")"
   ]
  },
  {
   "cell_type": "markdown",
   "id": "26e13820-24ca-42f6-ac9e-53d45999b93f",
   "metadata": {},
   "source": [
    "#### 원하는 텍스트로 변경해보세요"
   ]
  },
  {
   "cell_type": "code",
   "execution_count": null,
   "id": "4b3daab1-f82f-4fca-8eec-2190fbaeaa59",
   "metadata": {},
   "outputs": [],
   "source": [
    "input_text = \"red shirt\"\n",
    "#input_text = \"blue jean\"\n",
    "#input_text = \"black socks\"\n",
    "\n",
    "text_vec = get_vector(input_text, \"text\")"
   ]
  },
  {
   "cell_type": "markdown",
   "id": "827348ae-4f12-417b-a698-6c4142ca3c2f",
   "metadata": {},
   "source": [
    "#### 벡터 간 유클리디안 거리를 계산해 출력합니다"
   ]
  },
  {
   "cell_type": "code",
   "execution_count": null,
   "id": "70b5b70d-51e0-4727-8236-950315d7d54c",
   "metadata": {
    "scrolled": true
   },
   "outputs": [],
   "source": [
    "import numpy as np\n",
    "\n",
    "def euclidean_distance(v1, v2):\n",
    "    return np.sqrt(np.sum((v1 - v2) ** 2))\n",
    "    \n",
    "A = np.array(img1_vec)\n",
    "B = np.array(img2_vec)\n",
    "C = np.array(text_vec)\n",
    "AC_distance = euclidean_distance(A, C)\n",
    "BC_distance = euclidean_distance(B, C)\n",
    "\n",
    "print(f\"keyword : '{input_text}'  <--distance--> image : Blue T-shirt:\", AC_distance)\n",
    "print(f\"keyword : '{input_text}'  <--distance--> image : Red T-shirt:\", BC_distance)"
   ]
  }
 ],
 "metadata": {
  "kernelspec": {
   "display_name": "Python 3 (ipykernel)",
   "language": "python",
   "name": "python3"
  },
  "language_info": {
   "codemirror_mode": {
    "name": "ipython",
    "version": 3
   },
   "file_extension": ".py",
   "mimetype": "text/x-python",
   "name": "python",
   "nbconvert_exporter": "python",
   "pygments_lexer": "ipython3",
   "version": "3.10.13"
  }
 },
 "nbformat": 4,
 "nbformat_minor": 5
}
