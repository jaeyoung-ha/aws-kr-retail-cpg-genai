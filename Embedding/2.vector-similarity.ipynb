{
 "cells": [
  {
   "cell_type": "markdown",
   "id": "f4d6b185-f41a-4614-8fef-ea99500df806",
   "metadata": {},
   "source": [
    "# Vector 거리 계산"
   ]
  },
  {
   "cell_type": "code",
   "execution_count": 1,
   "id": "7799f472",
   "metadata": {},
   "outputs": [
    {
     "name": "stdout",
     "output_type": "stream",
     "text": [
      "BoW 행렬:\n",
      " [[1 1]\n",
      " [1 2]\n",
      " [2 1]\n",
      " [2 2]]\n",
      "BoW 특성 이름:\n",
      " ['hello' 'world']\n"
     ]
    }
   ],
   "source": [
    "from sklearn.feature_extraction.text import CountVectorizer, TfidfVectorizer\n",
    "from sklearn.metrics.pairwise import manhattan_distances, euclidean_distances, cosine_similarity\n",
    "\n",
    "# 문장 데이터 Corpus와 문서 이름\n",
    "corpus = [\n",
    "    \"Hello World\",\n",
    "    \"Hello World World\",\n",
    "    \"Hello Hello World\",\n",
    "    \"Hello Hello World World\"\n",
    "]\n",
    "doc_names = [\"Doc1\", \"Doc2\", \"Doc3\", \"Doc4\"]\n",
    "\n",
    "# BoW 계산\n",
    "bow_vectorizer = CountVectorizer()\n",
    "bow_matrix = bow_vectorizer.fit_transform(corpus)\n",
    "print(\"BoW 행렬:\\n\", bow_matrix.toarray())\n",
    "print(\"BoW 특성 이름:\\n\", bow_vectorizer.get_feature_names_out())"
   ]
  },
  {
   "cell_type": "code",
   "execution_count": 2,
   "id": "9f7e4438",
   "metadata": {},
   "outputs": [
    {
     "name": "stdout",
     "output_type": "stream",
     "text": [
      "\n",
      "맨하탄 거리:\n",
      "              Doc1      Doc2      Doc3      Doc4\n",
      "    Doc1      0.00      1.00      1.00      2.00\n",
      "    Doc2      1.00      0.00      2.00      1.00\n",
      "    Doc3      1.00      2.00      0.00      1.00\n",
      "    Doc4      2.00      1.00      1.00      0.00\n"
     ]
    }
   ],
   "source": [
    "# 맨하탄 거리 계산\n",
    "manhattan_dist = manhattan_distances(bow_matrix)\n",
    "print(\"\\n맨하탄 거리:\")\n",
    "print(\"        \", end=\"\")\n",
    "for doc_name in doc_names:\n",
    "    print(f\"{doc_name:>10}\", end=\"\")\n",
    "print()\n",
    "for i, doc_name in enumerate(doc_names):\n",
    "    print(f\"{doc_name:>8}\", end=\"\")\n",
    "    for dist in manhattan_dist[i]:\n",
    "        print(f\"{dist:10.2f}\", end=\"\")\n",
    "    print()"
   ]
  },
  {
   "cell_type": "code",
   "execution_count": 3,
   "id": "98231f8f",
   "metadata": {},
   "outputs": [
    {
     "name": "stdout",
     "output_type": "stream",
     "text": [
      "\n",
      "유클리드 거리:\n",
      "              Doc1      Doc2      Doc3      Doc4\n",
      "    Doc1      0.00      1.00      1.00      1.41\n",
      "    Doc2      1.00      0.00      1.41      1.00\n",
      "    Doc3      1.00      1.41      0.00      1.00\n",
      "    Doc4      1.41      1.00      1.00      0.00\n"
     ]
    }
   ],
   "source": [
    "# 유클리드 거리 계산\n",
    "euclidean_dist = euclidean_distances(bow_matrix)\n",
    "print(\"\\n유클리드 거리:\")\n",
    "print(\"        \", end=\"\")\n",
    "for doc_name in doc_names:\n",
    "    print(f\"{doc_name:>10}\", end=\"\")\n",
    "print()\n",
    "for i, doc_name in enumerate(doc_names):\n",
    "    print(f\"{doc_name:>8}\", end=\"\")\n",
    "    for dist in euclidean_dist[i]:\n",
    "        print(f\"{dist:10.2f}\", end=\"\")\n",
    "    print()"
   ]
  },
  {
   "cell_type": "code",
   "execution_count": 4,
   "id": "4397b629",
   "metadata": {},
   "outputs": [
    {
     "name": "stdout",
     "output_type": "stream",
     "text": [
      "\n",
      "코사인 거리:\n",
      "              Doc1      Doc2      Doc3      Doc4\n",
      "    Doc1      0.00      0.05      0.05      0.00\n",
      "    Doc2      0.05      0.00      0.20      0.05\n",
      "    Doc3      0.05      0.20      0.00      0.05\n",
      "    Doc4      0.00      0.05      0.05      0.00\n"
     ]
    }
   ],
   "source": [
    "# 코사인 거리 계산 (1 - 코사인 유사도 = 코사인 거리)\n",
    "cosine_sim = cosine_similarity(bow_matrix)\n",
    "cosine_dist = 1 - cosine_sim\n",
    "print(\"\\n코사인 거리:\")\n",
    "print(\"        \", end=\"\")\n",
    "for doc_name in doc_names:\n",
    "    print(f\"{doc_name:>10}\", end=\"\")\n",
    "print()\n",
    "for i, doc_name in enumerate(doc_names):\n",
    "    print(f\"{doc_name:>8}\", end=\"\")\n",
    "    for dist in cosine_dist[i]:\n",
    "        print(f\"{dist:10.2f}\", end=\"\")\n",
    "    print()"
   ]
  },
  {
   "cell_type": "code",
   "execution_count": null,
   "id": "03d57fad-8d6d-47bf-9449-61652dc482c4",
   "metadata": {},
   "outputs": [],
   "source": []
  }
 ],
 "metadata": {
  "kernelspec": {
   "display_name": "Python 3 (ipykernel)",
   "language": "python",
   "name": "python3"
  },
  "language_info": {
   "codemirror_mode": {
    "name": "ipython",
    "version": 3
   },
   "file_extension": ".py",
   "mimetype": "text/x-python",
   "name": "python",
   "nbconvert_exporter": "python",
   "pygments_lexer": "ipython3",
   "version": "3.12.2"
  }
 },
 "nbformat": 4,
 "nbformat_minor": 5
}
