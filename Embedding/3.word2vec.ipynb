{
 "cells": [
  {
   "cell_type": "markdown",
   "id": "c9428a30-ca1a-4bd3-b1d3-ca7075e0382c",
   "metadata": {},
   "source": [
    "# Word2Vec 벡터 임베딩"
   ]
  },
  {
   "cell_type": "markdown",
   "id": "a316e127",
   "metadata": {},
   "source": [
    "#### 오류 발생시 아래 주석 처리 된 library를 설치해주세요"
   ]
  },
  {
   "cell_type": "code",
   "execution_count": 1,
   "id": "c2ef105a",
   "metadata": {},
   "outputs": [],
   "source": [
    "# ImportError: cannot import name 'triu' from 'scipy.linalg' \n",
    "# pip install scipy==1.12 "
   ]
  },
  {
   "cell_type": "code",
   "execution_count": 2,
   "id": "50e97464",
   "metadata": {
    "scrolled": true
   },
   "outputs": [],
   "source": [
    "# from gensim.models import KeyedVectors\n",
    "# import gensim.downloader as api\n",
    "\n",
    "# # 사전 학습된 Word2Vec 모델 로드\n",
    "# data = api.load('word2vec-google-news-300', return_path=True)\n",
    "# word2vec_model = KeyedVectors.load_word2vec_format(data, binary=True)"
   ]
  },
  {
   "cell_type": "code",
   "execution_count": 3,
   "id": "0be9f13c",
   "metadata": {},
   "outputs": [],
   "source": [
    "# # 유사도 계산\n",
    "# result = word2vec_model.most_similar(positive=['king', 'woman'], negative=['man'], topn=1)\n",
    "# print(\"\\n'king' - 'man' + 'woman' 결과:\", result)"
   ]
  }
 ],
 "metadata": {
  "kernelspec": {
   "display_name": "Python 3 (ipykernel)",
   "language": "python",
   "name": "python3"
  },
  "language_info": {
   "codemirror_mode": {
    "name": "ipython",
    "version": 3
   },
   "file_extension": ".py",
   "mimetype": "text/x-python",
   "name": "python",
   "nbconvert_exporter": "python",
   "pygments_lexer": "ipython3",
   "version": "3.10.13"
  }
 },
 "nbformat": 4,
 "nbformat_minor": 5
}
