{
 "cells": [
  {
   "cell_type": "markdown",
   "id": "c9428a30-ca1a-4bd3-b1d3-ca7075e0382c",
   "metadata": {},
   "source": [
    "# Word2Vec 벡터 임베딩"
   ]
  },
  {
   "cell_type": "markdown",
   "id": "a316e127",
   "metadata": {},
   "source": [
    "#### 오류 발생시 아래 주석 처리 된 library를 설치해주세요"
   ]
  },
  {
   "cell_type": "code",
   "execution_count": 1,
   "id": "c2ef105a",
   "metadata": {},
   "outputs": [],
   "source": [
    "# ImportError: cannot import name 'triu' from 'scipy.linalg' \n",
    "# pip install scipy==1.12 "
   ]
  },
  {
   "cell_type": "code",
   "execution_count": 1,
   "id": "50e97464",
   "metadata": {
    "scrolled": true
   },
   "outputs": [],
   "source": [
    "# from gensim.models import KeyedVectors\n",
    "# import gensim.downloader as api\n",
    "\n",
    "# # 사전 학습된 Word2Vec 모델 로드\n",
    "# data = api.load('word2vec-google-news-300', return_path=True)\n",
    "# word2vec_model = KeyedVectors.load_word2vec_format(data, binary=True)"
   ]
  },
  {
   "cell_type": "code",
   "execution_count": 4,
   "id": "0be9f13c",
   "metadata": {},
   "outputs": [
    {
     "name": "stdout",
     "output_type": "stream",
     "text": [
      "벡터의 크기: 300\n",
      "\n",
      "'king' - 'man' + 'woman' 결과: [('queen', 0.7118192911148071)]\n"
     ]
    }
   ],
   "source": [
    "vector_size = word2vec_model.vector_size\n",
    "print(f\"벡터의 크기: {vector_size}\")\n",
    "\n",
    "# 유사도 계산\n",
    "result = word2vec_model.most_similar(positive=['king', 'woman'], negative=['man'], topn=1)\n",
    "print(\"\\n'king' - 'man' + 'woman' 결과:\", result)"
   ]
  },
  {
   "cell_type": "code",
   "execution_count": null,
   "id": "e41799dc-1df2-41c0-935e-76000ce50e61",
   "metadata": {},
   "outputs": [],
   "source": []
  }
 ],
 "metadata": {
  "kernelspec": {
   "display_name": "venv_kernel",
   "language": "python",
   "name": "venv"
  },
  "language_info": {
   "codemirror_mode": {
    "name": "ipython",
    "version": 3
   },
   "file_extension": ".py",
   "mimetype": "text/x-python",
   "name": "python",
   "nbconvert_exporter": "python",
   "pygments_lexer": "ipython3",
   "version": "3.12.2"
  }
 },
 "nbformat": 4,
 "nbformat_minor": 5
}
