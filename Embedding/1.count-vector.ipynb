{
 "cells": [
  {
   "cell_type": "markdown",
   "id": "368cb925",
   "metadata": {},
   "source": [
    "# Counter Vector"
   ]
  },
  {
   "cell_type": "code",
   "execution_count": 1,
   "id": "a5ed5764",
   "metadata": {},
   "outputs": [],
   "source": [
    "!pip install scikit-learn -q"
   ]
  },
  {
   "cell_type": "code",
   "execution_count": 2,
   "id": "ada97692",
   "metadata": {},
   "outputs": [],
   "source": [
    "from sklearn.feature_extraction.text import CountVectorizer, TfidfVectorizer\n",
    "\n",
    "# 문장 데이터 Copus\n",
    "corpus = [\n",
    "    \"Hello World\",\n",
    "    \"Hello World World\",\n",
    "    \"Hello Hello World\",\n",
    "    \"Hello Hello World World\"\n",
    "]"
   ]
  },
  {
   "cell_type": "code",
   "execution_count": 3,
   "id": "7088ca1e",
   "metadata": {},
   "outputs": [
    {
     "name": "stdout",
     "output_type": "stream",
     "text": [
      "BoW 행렬:\n",
      " [[1 1]\n",
      " [1 2]\n",
      " [2 1]\n",
      " [2 2]]\n",
      "BoW 특성 이름:\n",
      " ['hello' 'world']\n"
     ]
    }
   ],
   "source": [
    "# BoW 계산\n",
    "bow_vectorizer = CountVectorizer()\n",
    "bow_matrix = bow_vectorizer.fit_transform(corpus)\n",
    "print(\"BoW 행렬:\\n\", bow_matrix.toarray())\n",
    "print(\"BoW 특성 이름:\\n\", bow_vectorizer.get_feature_names_out())"
   ]
  },
  {
   "cell_type": "code",
   "execution_count": 4,
   "id": "9e5c6eb6",
   "metadata": {},
   "outputs": [
    {
     "name": "stdout",
     "output_type": "stream",
     "text": [
      "\n",
      "TF-IDF 행렬:\n",
      " [[0.70710678 0.70710678]\n",
      " [0.4472136  0.89442719]\n",
      " [0.89442719 0.4472136 ]\n",
      " [0.70710678 0.70710678]]\n",
      "TF-IDF 특성 이름:\n",
      " ['hello' 'world']\n"
     ]
    }
   ],
   "source": [
    "# TF-IDF 계산\n",
    "tfidf_vectorizer = TfidfVectorizer()\n",
    "tfidf_matrix = tfidf_vectorizer.fit_transform(corpus)\n",
    "print(\"\\nTF-IDF 행렬:\\n\", tfidf_matrix.toarray())\n",
    "print(\"TF-IDF 특성 이름:\\n\", tfidf_vectorizer.get_feature_names_out())"
   ]
  }
 ],
 "metadata": {
  "kernelspec": {
   "display_name": "Python 3 (ipykernel)",
   "language": "python",
   "name": "python3"
  },
  "language_info": {
   "codemirror_mode": {
    "name": "ipython",
    "version": 3
   },
   "file_extension": ".py",
   "mimetype": "text/x-python",
   "name": "python",
   "nbconvert_exporter": "python",
   "pygments_lexer": "ipython3",
   "version": "3.10.13"
  }
 },
 "nbformat": 4,
 "nbformat_minor": 5
}
